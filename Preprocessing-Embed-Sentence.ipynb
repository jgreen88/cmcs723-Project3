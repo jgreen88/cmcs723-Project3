{
 "cells": [
  {
   "cell_type": "code",
   "execution_count": 2,
   "metadata": {
    "collapsed": false
   },
   "outputs": [],
   "source": [
    "import numpy as np\n",
    "from sklearn.metrics.pairwise import cosine_similarity\n",
    "from scipy.stats.stats import pearsonr\n",
    "import nltk\n",
    "import pickle\n",
    "\n"
   ]
  },
  {
   "cell_type": "code",
   "execution_count": 3,
   "metadata": {
    "collapsed": true
   },
   "outputs": [],
   "source": [
    "PARAGRAM_PHRASE_FNAME = \"paragram-phrase-XXL.txt\"\n",
    "PARAGRAM_SL999_FNAME = \"paragram_300_sl999.txt\""
   ]
  },
  {
   "cell_type": "code",
   "execution_count": 46,
   "metadata": {
    "collapsed": true
   },
   "outputs": [],
   "source": [
    "def load_embeddings(fname):\n",
    "    embeddings = {}\n",
    "    \n",
    "    file = open(fname)\n",
    "    \n",
    "    while 1:\n",
    "        lines = file.readlines(100000)\n",
    "        if not lines:\n",
    "            break\n",
    "        for line in lines:\n",
    "            spl = line.split(\" \")\n",
    "            \n",
    "            word = spl[0]\n",
    "            embed = np.array([float(i) for i in spl[1:]])\n",
    "            embeddings[word] = embed\n",
    "    \n",
    "    file.close()\n",
    "    \n",
    "    return embeddings"
   ]
  },
  {
   "cell_type": "code",
   "execution_count": 47,
   "metadata": {
    "collapsed": false
   },
   "outputs": [
    {
     "name": "stdout",
     "output_type": "stream",
     "text": [
      "Phrase embeddings loaded.\n",
      "SL999 embeddings loaded.\n"
     ]
    }
   ],
   "source": [
    "phrase_embed = load_embeddings(PARAGRAM_PHRASE_FNAME)\n",
    "print \"Phrase embeddings loaded.\"\n",
    "sl999_embed = load_embeddings(PARAGRAM_SL999_FNAME)\n",
    "print \"SL999 embeddings loaded.\"\n",
    "embedding_set = [phrase_embed, sl999_embed]"
   ]
  },
  {
   "cell_type": "code",
   "execution_count": 48,
   "metadata": {
    "collapsed": false
   },
   "outputs": [],
   "source": [
    "# key for unknown tokens (in Paragram Phrase XXL)\n",
    "UNKNOWN_KEY = 'UUUNKKK'\n",
    "UNKNOWN_EMBED = phrase_embed[UNKNOWN_KEY]"
   ]
  },
  {
   "cell_type": "code",
   "execution_count": 49,
   "metadata": {
    "collapsed": true
   },
   "outputs": [],
   "source": [
    "# exclude the top 10 most common English words from contributing\n",
    "# to the embedding\n",
    "#embed_exclude = [\"the\", \"be\", \"to\", \"of\", \"and\", \"a\", \"in\"]\n",
    "\n",
    "# turns sentence into 300xN matrix\n",
    "def sentence_to_embedding_space(snt, embeddings):\n",
    "    # replace period, apostrophe, comma tokens\n",
    "    p_snt = snt.lower()\n",
    "    tokens = nltk.wordpunct_tokenize(p_snt)\n",
    "    \n",
    "    embed_space = None\n",
    "    \n",
    "    for tk in tokens:\n",
    "        w_embed = None\n",
    "        for e in embeddings:\n",
    "            if (tk in e):\n",
    "                w_embed = np.copy(e[tk])\n",
    "                break\n",
    "        if (w_embed is None):\n",
    "            w_embed = np.copy(UNKNOWN_EMBED)\n",
    "        w_embed = np.reshape(w_embed, (300, 1))\n",
    "        \n",
    "        if (embed_space is None):\n",
    "            embed_space = w_embed\n",
    "        else:\n",
    "            embed_space = np.append(embed_space, w_embed, axis = -1)\n",
    "    \n",
    "    return embed_space"
   ]
  },
  {
   "cell_type": "code",
   "execution_count": 50,
   "metadata": {
    "collapsed": false
   },
   "outputs": [],
   "source": [
    "train_files = ['MSRpar.txt', 'MSRvid.txt', 'SMTeuroparl.txt']\n",
    "\n",
    "score_prefix = \"train/STS2012-en-train/STS.gs.\"\n",
    "input_prefix = \"train/STS2012-en-train/STS.input.\"\n",
    "\n",
    "for tx in train_files:\n",
    "    scr_file = open(score_prefix + tx)\n",
    "    inp_file = open(input_prefix + tx)\n",
    "    \n",
    "    scr_content = scr_file.readlines()\n",
    "    inp_content = inp_file.readlines()\n",
    "    \n",
    "    train_data = []\n",
    "    \n",
    "    for i in xrange(0, len(scr_content)):\n",
    "        snts = inp_content[i].split(\"\\t\")\n",
    "        snts = [x.replace(\"\\n\", \"\") for x in snts]\n",
    "        \n",
    "        t = (snts[0], snts[1],\n",
    "             sentence_to_embedding_space(snts[0], embedding_set), \\\n",
    "             sentence_to_embedding_space(snts[1], embedding_set), \\\n",
    "             float(scr_content[i]))\n",
    "        train_data.append(t)\n",
    "        \n",
    "    output = open(\"preprocessed_feats/\" + tx + '.features_pkl', 'wb')\n",
    "    pickle.dump(train_data, output)\n",
    "    \n",
    "    scr_file.close()\n",
    "    inp_file.close()"
   ]
  },
  {
   "cell_type": "code",
   "execution_count": 51,
   "metadata": {
    "collapsed": false
   },
   "outputs": [],
   "source": [
    "test_files = ['answer-answer.txt', 'headlines.txt', 'plagiarism.txt', \\\n",
    "             'postediting.txt', 'question-question.txt']\n",
    "\n",
    "input_prefix = \"test/STS2016.input.\"\n",
    "\n",
    "for tx in test_files:\n",
    "    inp_file = open(input_prefix + tx)   \n",
    "    inp_content = inp_file.readlines()\n",
    "    \n",
    "    test_data = []\n",
    "    \n",
    "    for i in xrange(0, len(inp_content)):\n",
    "        snts = inp_content[i].split(\"\\t\")\n",
    "        snts = [x.replace(\"\\n\", \"\") for x in snts]\n",
    "        \n",
    "        t = (snts[0], snts[1],\n",
    "             sentence_to_embedding_space(snts[0], embedding_set), \\\n",
    "             sentence_to_embedding_space(snts[1], embedding_set), \\\n",
    "             -1.0)\n",
    "        test_data.append(t)\n",
    "        \n",
    "    output = open(\"preprocessed_feats/\" + tx + '.features_pkl', 'wb')\n",
    "    pickle.dump(test_data, output)\n",
    "    \n",
    "    inp_file.close()"
   ]
  },
  {
   "cell_type": "code",
   "execution_count": null,
   "metadata": {
    "collapsed": true
   },
   "outputs": [],
   "source": []
  },
  {
   "cell_type": "code",
   "execution_count": null,
   "metadata": {
    "collapsed": true
   },
   "outputs": [],
   "source": []
  },
  {
   "cell_type": "code",
   "execution_count": null,
   "metadata": {
    "collapsed": true
   },
   "outputs": [],
   "source": []
  }
 ],
 "metadata": {
  "anaconda-cloud": {},
  "kernelspec": {
   "display_name": "Python 2",
   "language": "python",
   "name": "python2"
  },
  "language_info": {
   "codemirror_mode": {
    "name": "ipython",
    "version": 2
   },
   "file_extension": ".py",
   "mimetype": "text/x-python",
   "name": "python",
   "nbconvert_exporter": "python",
   "pygments_lexer": "ipython2",
   "version": "2.7.12"
  }
 },
 "nbformat": 4,
 "nbformat_minor": 0
}
