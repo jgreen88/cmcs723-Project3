{
 "cells": [
  {
   "cell_type": "code",
   "execution_count": 1,
   "metadata": {
    "collapsed": false
   },
   "outputs": [],
   "source": [
    "import numpy as np\n",
    "from sklearn.metrics.pairwise import cosine_similarity\n",
    "from scipy.stats.stats import pearsonr\n",
    "import nltk"
   ]
  },
  {
   "cell_type": "code",
   "execution_count": 2,
   "metadata": {
    "collapsed": true
   },
   "outputs": [],
   "source": [
    "PARAGRAM_PHRASE_FNAME = \"paragram-phrase-XXL.txt\"\n",
    "PARAGRAM_SL999_FNAME = \"paragram_300_sl999.txt\""
   ]
  },
  {
   "cell_type": "code",
   "execution_count": 3,
   "metadata": {
    "collapsed": true
   },
   "outputs": [],
   "source": [
    "def load_embeddings(fname):\n",
    "    embeddings = {}\n",
    "    \n",
    "    file = open(fname)\n",
    "    \n",
    "    while 1:\n",
    "        lines = file.readlines(100000)\n",
    "        if not lines:\n",
    "            break\n",
    "        for line in lines:\n",
    "            spl = line.split(\" \")\n",
    "            \n",
    "            word = spl[0]\n",
    "            embed = np.array([float(i) for i in spl[1:]])\n",
    "            embeddings[word] = embed\n",
    "    \n",
    "    file.close()\n",
    "    \n",
    "    return embeddings"
   ]
  },
  {
   "cell_type": "code",
   "execution_count": 4,
   "metadata": {
    "collapsed": false
   },
   "outputs": [
    {
     "name": "stdout",
     "output_type": "stream",
     "text": [
      "Phrase embeddings loaded.\n",
      "SL999 embeddings loaded.\n"
     ]
    }
   ],
   "source": [
    "phrase_embed = load_embeddings(PARAGRAM_PHRASE_FNAME)\n",
    "print \"Phrase embeddings loaded.\"\n",
    "sl999_embed = load_embeddings(PARAGRAM_SL999_FNAME)\n",
    "print \"SL999 embeddings loaded.\"\n",
    "embedding_set = [phrase_embed, sl999_embed]"
   ]
  },
  {
   "cell_type": "code",
   "execution_count": 11,
   "metadata": {
    "collapsed": true
   },
   "outputs": [],
   "source": [
    "# key for unknown tokens (in Paragram Phrase XXL)\n",
    "UNKNOWN_KEY = 'UUUNKKK'\n",
    "UNKNOWN_EMBED = phrase_embed[UNKNOWN_KEY]"
   ]
  },
  {
   "cell_type": "code",
   "execution_count": 12,
   "metadata": {
    "collapsed": true
   },
   "outputs": [],
   "source": [
    "# exclude the top 10 most common English words from contributing\n",
    "# to the embedding\n",
    "#embed_exclude = [\"the\", \"be\", \"to\", \"of\", \"and\", \"a\", \"in\"]\n",
    "\n",
    "def generate_sentence_embedding(snt, embeddings):\n",
    "    # replace period, apostrophe, comma tokens\n",
    "    p_snt = snt.lower()\n",
    "    tokens = nltk.wordpunct_tokenize(p_snt)\n",
    "    '''\n",
    "    p_snt = p_snt.replace(\".\", \" . \")\n",
    "    p_snt = p_snt.replace(\",\", \"\")\n",
    "    p_snt = p_snt.replace(\"'\", \" '\")\n",
    "    \n",
    "    tokens = p_snt.split(\" \")\n",
    "    '''\n",
    "    \n",
    "    embed = None\n",
    "    \n",
    "    for tk in tokens:\n",
    "        w_embed = None\n",
    "        for e in embeddings:\n",
    "            if (tk in e):\n",
    "                w_embed = np.copy(e[tk])\n",
    "                break\n",
    "        if (w_embed is None):\n",
    "            w_embed = np.copy(UNKNOWN_EMBED)\n",
    "        \n",
    "        if (embed is None):\n",
    "            embed = np.copy(w_embed)\n",
    "        else:\n",
    "            embed += w_embed\n",
    "    \n",
    "    embed /= float(len(tokens))\n",
    "    \n",
    "    return embed"
   ]
  },
  {
   "cell_type": "code",
   "execution_count": 13,
   "metadata": {
    "collapsed": false
   },
   "outputs": [
    {
     "data": {
      "text/plain": [
       "array([ 0.02145891,  0.01980786,  0.01566592,  0.03454341,  0.05284471,\n",
       "       -0.03635827, -0.12828479, -0.01929458,  0.04937593,  0.14469414,\n",
       "       -0.19015587,  0.05935121,  0.13937566, -0.02097366,  0.0767659 ,\n",
       "        0.09187943,  0.02417306,  0.27704952, -0.07365263,  0.17273723,\n",
       "        0.1721963 , -0.06514027, -0.1115499 ,  0.00271728,  0.04272548,\n",
       "       -0.2770561 , -0.09489096,  0.25701236,  0.03370794, -0.1114329 ,\n",
       "       -0.02391095,  0.19763558,  0.07582888, -0.095224  ,  0.17163322,\n",
       "        0.1001437 ,  0.05222531, -0.02610413, -0.10390669,  0.05251578,\n",
       "        0.16708791, -0.02831472, -0.20408081, -0.16155014,  0.09230184,\n",
       "        0.0071894 , -0.07491042,  0.05629261, -0.01113949, -0.06069164,\n",
       "       -0.08809049,  0.0565194 , -0.05463463,  0.15845133,  0.22879134,\n",
       "       -0.03235061, -0.09324567,  0.1945562 ,  0.05712636, -0.11348776,\n",
       "        0.02825785,  0.19870934,  0.16976406,  0.0916146 , -0.07538186,\n",
       "       -0.20267189,  0.2206958 , -0.18111157, -0.20988867,  0.06109361,\n",
       "       -0.06394523,  0.0904301 , -0.03819594,  0.17126395, -0.02086005,\n",
       "       -0.0114248 , -0.07912645,  0.13627837, -0.12234909, -0.3176794 ,\n",
       "        0.02253075,  0.00092962,  0.11088329,  0.03835314, -0.29233029,\n",
       "       -0.052258  ,  0.27389773,  0.09042598, -0.100308  , -0.04776003,\n",
       "        0.09350048,  0.01754252, -0.0939455 , -0.05935584, -0.1881115 ,\n",
       "        0.10114049,  0.0298189 ,  0.03968701, -0.07805469,  0.0859988 ,\n",
       "        0.01486353, -0.0582016 , -0.02332766,  0.02746596, -0.28429524,\n",
       "        0.05557102,  0.01006652, -0.13371597,  0.36507949, -0.04099952,\n",
       "       -0.09510804,  0.11079604, -0.2235641 , -0.06898375, -0.01570001,\n",
       "       -0.16699226, -0.10514261, -0.03522647,  0.08571589,  0.04992635,\n",
       "       -0.16778375, -0.07590691,  0.12808765, -0.1260857 , -0.03069881,\n",
       "       -0.08014906,  0.21795729,  0.06628321, -0.09675877,  0.07398656,\n",
       "       -0.16261853,  0.01778991,  0.17534869,  0.27857537, -0.10954266,\n",
       "       -0.00254804,  0.15946126, -0.02473514, -0.01921326,  0.02450304,\n",
       "       -0.708213  ,  0.18430949, -0.05708979,  0.14242002, -0.00969105,\n",
       "       -0.21091252, -0.1969651 ,  0.08357639,  0.14524997,  0.12355717,\n",
       "        0.03188188,  0.0573903 , -0.013676  , -0.02850378, -0.05334766,\n",
       "        0.01898586, -0.1422163 , -0.01272226,  0.03871667, -0.04368128,\n",
       "        0.10206604, -0.07027193, -0.02365953, -0.09578184,  0.04850372,\n",
       "       -0.13761711,  0.10897344,  0.02176628,  0.05422548,  0.07269567,\n",
       "        0.06279489,  0.06197092, -0.07350987, -0.09052442, -0.1221149 ,\n",
       "       -0.01367561,  0.01270068,  0.13429048,  0.05296389,  0.06945635,\n",
       "        0.02080057,  0.12212564, -0.10401057, -0.20218358, -0.24948836,\n",
       "       -0.09471165, -0.07040872,  0.03014958, -0.03227384,  0.0233216 ,\n",
       "       -0.20240993, -0.0956628 ,  0.0489479 , -0.0190358 ,  0.0267695 ,\n",
       "       -0.13416563,  0.14891583,  0.01040866,  0.03296805, -0.00590378,\n",
       "       -0.18561365, -0.08798655,  0.08141099,  0.2699008 , -0.00924977,\n",
       "       -0.01960136,  0.00142431,  0.20353967, -0.07472943,  0.02483415,\n",
       "       -0.03156221,  0.10113038, -0.13541312, -0.07481899,  0.08232472,\n",
       "        0.06959626,  0.0638101 , -0.12711641, -0.00521296,  0.05899154,\n",
       "       -0.18937731,  0.21614188,  0.1311165 , -0.0319166 ,  0.21440589,\n",
       "        0.04774391, -0.03735313,  0.19438541, -0.1246185 ,  0.13462651,\n",
       "        0.08751074, -0.2324513 , -0.2142323 , -0.10601772,  0.16520196,\n",
       "       -0.27164314,  0.04427765,  0.03934599, -0.12731879,  0.13784277,\n",
       "       -0.06623112, -0.02870976, -0.0149912 ,  0.07088117,  0.07633662,\n",
       "        0.08123906,  0.17783252, -0.02785645,  0.11912946,  0.13092775,\n",
       "       -0.05509142,  0.11731531, -0.07536105,  0.2367082 ,  0.12219358,\n",
       "        0.1204052 ,  0.12998273,  0.0629924 , -0.0727596 ,  0.03689938,\n",
       "       -0.16616952, -0.029543  ,  0.03808294, -0.00862298, -0.3617535 ,\n",
       "        0.05883929, -0.25918423, -0.0547651 , -0.3125977 , -0.06753937,\n",
       "       -0.04970198, -0.05800009,  0.10364929, -0.09006898, -0.2041376 ,\n",
       "        0.09773245,  0.11650866,  0.0849502 ,  0.06843081,  0.07395317,\n",
       "       -0.04938541, -0.01869053,  0.18770486, -0.06349124, -0.03293781,\n",
       "        0.08466709, -0.01259998, -0.05779056, -0.1637783 , -0.02962309,\n",
       "        0.17912466,  0.2657588 ,  0.04283233,  0.09819508, -0.04938352,\n",
       "        0.07223526,  0.29567   , -0.2120868 , -0.03926098,  0.2752631 ])"
      ]
     },
     "execution_count": 13,
     "metadata": {},
     "output_type": "execute_result"
    }
   ],
   "source": [
    "generate_sentence_embedding(\"I'm a big banana bread shaped baby.\", embedding_set)"
   ]
  },
  {
   "cell_type": "code",
   "execution_count": 14,
   "metadata": {
    "collapsed": true
   },
   "outputs": [],
   "source": [
    "def compute_scores(inp_fname, out_fname):\n",
    "    inp_file = open(inp_fname)\n",
    "    inp_content = inp_file.readlines()\n",
    "    inp_file.close()\n",
    "\n",
    "    calculated_similarity = []\n",
    "    for i in xrange(0, len(inp_content)):\n",
    "        snts = inp_content[i].split(\"\\t\")\n",
    "\n",
    "        embed_s1 = generate_sentence_embedding(snts[0], embedding_set)\n",
    "        embed_s1 = embed_s1.reshape(1, -1)\n",
    "\n",
    "        embed_s2 = generate_sentence_embedding(snts[1], embedding_set)\n",
    "        embed_s2 = embed_s2.reshape(1, -1)\n",
    "\n",
    "        calculated_similarity.append(cosine_similarity(embed_s1, embed_s2))\n",
    "\n",
    "    calculated_similarity = np.array(calculated_similarity)\n",
    "    calculated_similarity = calculated_similarity.flatten()\n",
    "\n",
    "    np.savetxt(out_fname, calculated_similarity)"
   ]
  },
  {
   "cell_type": "code",
   "execution_count": 15,
   "metadata": {
    "collapsed": false
   },
   "outputs": [],
   "source": [
    "compute_scores(\"test/STS2016.input.answer-answer.txt\", \"answer-answer.predictions\")\n",
    "compute_scores(\"test/STS2016.input.headlines.txt\", \"headlines.predictions\")\n",
    "compute_scores(\"test/STS2016.input.plagiarism.txt\", \"plagiarism.predictions\")\n",
    "compute_scores(\"test/STS2016.input.postediting.txt\", \"postediting.predictions\")\n",
    "compute_scores(\"test/STS2016.input.question-question.txt\", \"question-question.predictions\")"
   ]
  },
  {
   "cell_type": "code",
   "execution_count": 84,
   "metadata": {
    "collapsed": false
   },
   "outputs": [
    {
     "name": "stdout",
     "output_type": "stream",
     "text": [
      "MSRpar.txt 0.439731780795\n",
      "MSRvid.txt 0.783034963789\n",
      "SMTeuroparl.txt 0.652135418538\n"
     ]
    }
   ],
   "source": [
    "train_data = ['MSRpar.txt', 'MSRvid.txt', 'SMTeuroparl.txt']\n",
    "\n",
    "score_prefix = \"train/STS2012-en-train/STS.gs.\"\n",
    "input_prefix = \"train/STS2012-en-train/STS.input.\"\n",
    "\n",
    "cnt = 0\n",
    "\n",
    "calculated_scores = {}\n",
    "\n",
    "for tx in train_data:\n",
    "    scr_file = open(score_prefix + tx)\n",
    "    inp_file = open(input_prefix + tx)\n",
    "    \n",
    "    scr_content = scr_file.readlines()\n",
    "    inp_content = inp_file.readlines()\n",
    "    \n",
    "    sentences = []\n",
    "    scores = []\n",
    "    \n",
    "    for i in xrange(0, len(scr_content)):\n",
    "        snts = inp_content[i].split(\"\\t\")\n",
    "        snts = [x.replace(\"\\n\", \"\") for x in snts]\n",
    "        sentences.append((snts[0], snts[1]))\n",
    "        \n",
    "        scores.append(float(scr_content[i]))\n",
    "    \n",
    "    scores = np.array(scores)\n",
    "    \n",
    "    calculated_similarity = []\n",
    "    for (s1, s2) in sentences:\n",
    "        embed_s1 = generate_sentence_embedding(s1, embedding_set)\n",
    "        embed_s2 = generate_sentence_embedding(s2, embedding_set)\n",
    "        \n",
    "        embed_s1 = embed_s1.reshape(1, -1)\n",
    "        embed_s2 = embed_s2.reshape(1, -1)\n",
    "        \n",
    "        calculated_similarity.append(cosine_similarity(embed_s1, embed_s2))\n",
    "    \n",
    "    scores = np.array(scores)\n",
    "    calculated_similarity = np.array(calculated_similarity)\n",
    "    calculated_similarity = calculated_similarity.reshape(scores.shape)\n",
    "    \n",
    "    corr, _ = pearsonr(scores, calculated_similarity)\n",
    "    print tx, corr\n",
    "    \n",
    "    store = []\n",
    "    for i in xrange(0, scores.shape[0]):\n",
    "        store.append((sentences[i], calculated_similarity[i], scores[i]))\n",
    "    calculated_scores[tx] = store\n",
    "    \n",
    "    scr_file.close()\n",
    "    inp_file.close()"
   ]
  },
  {
   "cell_type": "code",
   "execution_count": null,
   "metadata": {
    "collapsed": false
   },
   "outputs": [],
   "source": [
    "import math\n",
    "idx = 0\n",
    "\n",
    "sc = calculated_scores['MSRpar.txt']\n",
    "for i in xrange(0, len(sc)):\n",
    "    snts, calc, actual = sc[i]\n",
    "    \n",
    "    if (abs(actual - (calc * 5.0)) > 0.1):\n",
    "        continue\n",
    "\n",
    "    print i\n",
    "    print snts\n",
    "    print actual / 5.0, actual\n",
    "    print calc, calc * 5.0\n",
    "    print \"\""
   ]
  },
  {
   "cell_type": "code",
   "execution_count": null,
   "metadata": {
    "collapsed": true
   },
   "outputs": [],
   "source": []
  }
 ],
 "metadata": {
  "anaconda-cloud": {},
  "kernelspec": {
   "display_name": "Python [Root]",
   "language": "python",
   "name": "Python [Root]"
  },
  "language_info": {
   "codemirror_mode": {
    "name": "ipython",
    "version": 2
   },
   "file_extension": ".py",
   "mimetype": "text/x-python",
   "name": "python",
   "nbconvert_exporter": "python",
   "pygments_lexer": "ipython2",
   "version": "2.7.12"
  }
 },
 "nbformat": 4,
 "nbformat_minor": 0
}
