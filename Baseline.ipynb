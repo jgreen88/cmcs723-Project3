{
 "cells": [
  {
   "cell_type": "code",
   "execution_count": 1,
   "metadata": {
    "collapsed": false
   },
   "outputs": [],
   "source": [
    "import numpy as np\n",
    "from sklearn.metrics.pairwise import cosine_similarity\n",
    "from scipy.stats.stats import pearsonr"
   ]
  },
  {
   "cell_type": "code",
   "execution_count": 2,
   "metadata": {
    "collapsed": false
   },
   "outputs": [
    {
     "name": "stdout",
     "output_type": "stream",
     "text": [
      "57403\n"
     ]
    }
   ],
   "source": [
    "# load paragram phrase embeddings\n",
    "embeddings = {}\n",
    "\n",
    "cnt = 0\n",
    "with open(\"paragram-phrase-XXL.txt\", \"r\") as ins:\n",
    "    for line in ins:\n",
    "        spl = line.split(\" \")\n",
    "        \n",
    "        word = spl[0]\n",
    "        embed = np.array([float(i) for i in spl[1:]])\n",
    "        embeddings[word] = embed\n",
    "        \n",
    "print len(embeddings)"
   ]
  },
  {
   "cell_type": "code",
   "execution_count": 3,
   "metadata": {
    "collapsed": true
   },
   "outputs": [],
   "source": [
    "train_data = ['MSRpar.txt', 'MSRvid.txt', 'SMTeuroparl.txt']\n",
    "\n",
    "score_prefix = \"train/STS2012-en-train/STS.gs.\"\n",
    "input_prefix = \"train/STS2012-en-train/STS.input.\""
   ]
  },
  {
   "cell_type": "code",
   "execution_count": 4,
   "metadata": {
    "collapsed": true
   },
   "outputs": [],
   "source": [
    "# exclude the top 10 most common English words from contributing\n",
    "# to the embedding\n",
    "embed_exclude = [\"the\", \"be\", \"to\", \"of\", \"and\", \"a\", \"in\"]\n",
    "\n",
    "# key for unknown tokens\n",
    "UNKNOWN_KEY = 'UUUNKKK'\n",
    "\n",
    "def generate_sentence_embedding(snt):\n",
    "    # replace period, apostrophe, comma tokens\n",
    "    p_snt = snt.lower()\n",
    "    p_snt = p_snt.replace(\".\", \" . \")\n",
    "    p_snt = p_snt.replace(\",\", \"\")\n",
    "    p_snt = p_snt.replace(\"'\", \" '\")\n",
    "    \n",
    "    tokens = p_snt.split(\" \")\n",
    "    \n",
    "    embed = None\n",
    "    \n",
    "    for tk in tokens:\n",
    "        if (tk in embed_exclude): continue\n",
    "            \n",
    "        if (tk in embeddings):\n",
    "            w_embed = np.copy(embeddings[tk])\n",
    "        else:\n",
    "            w_embed = np.copy(embeddings[UNKNOWN_KEY])\n",
    "        \n",
    "        if (embed is None):\n",
    "            embed = np.copy(w_embed)\n",
    "        else:\n",
    "            embed += w_embed\n",
    "    \n",
    "    embed /= float(len(tokens))\n",
    "    \n",
    "    return embed"
   ]
  },
  {
   "cell_type": "code",
   "execution_count": 5,
   "metadata": {
    "collapsed": false
   },
   "outputs": [
    {
     "data": {
      "text/plain": [
       "array([ 0.08272017, -0.0240963 ,  0.19763781,  0.0127988 , -0.10337241,\n",
       "        0.0186414 , -0.17947724,  0.00541829,  0.05503789, -0.14970237,\n",
       "       -0.19154424,  0.08200344,  0.13841786, -0.07519051,  0.08786204,\n",
       "        0.12373757, -0.02274408,  0.00984109, -0.04086139,  0.1190146 ,\n",
       "        0.32392957,  0.13972657, -0.03135561, -0.05066251,  0.15584202,\n",
       "       -0.09838443, -0.05120711,  0.10024286, -0.0698986 , -0.22579137,\n",
       "        0.01611736,  0.01273414,  0.04818078,  0.06993207,  0.0625086 ,\n",
       "        0.22322516,  0.04402224, -0.04637233, -0.02190523,  0.26198261,\n",
       "        0.11384891,  0.00663643, -0.09369043, -0.25205019,  0.10511761,\n",
       "        0.21353314,  0.01177551,  0.11308824, -0.06628112,  0.00731351,\n",
       "        0.01387944,  0.01134849,  0.17159253,  0.1230085 ,  0.20220729,\n",
       "       -0.09297496, -0.04773596,  0.20767896,  0.01554781, -0.13748374,\n",
       "        0.08533771,  0.08392154,  0.28348239,  0.12206729,  0.01077601,\n",
       "       -0.23239174,  0.11436821, -0.04515459, -0.16799414,  0.12304543,\n",
       "        0.02202691,  0.21957774, -0.06519149,  0.23254611, -0.12585127,\n",
       "        0.05324207, -0.17960619,  0.11296091, -0.11940196, -0.16086753,\n",
       "        0.05151497,  0.02259259,  0.06047124, -0.0013458 , -0.30023054,\n",
       "        0.17996934,  0.33057346,  0.05151186,  0.05041571,  0.03128143,\n",
       "        0.18146673, -0.02191864, -0.00452924, -0.09157214, -0.12209674,\n",
       "        0.06219799, -0.00360929,  0.08354562, -0.09557351,  0.14325154,\n",
       "       -0.04520349, -0.03123769, -0.01651966,  0.01362199, -0.15047941,\n",
       "       -0.03615737,  0.242927  , -0.20245994,  0.23115156,  0.04029516,\n",
       "       -0.02942369,  0.17654943, -0.301054  ,  0.00755699,  0.0080412 ,\n",
       "       -0.15372614, -0.07833207, -0.17989057, -0.00191139,  0.04749128,\n",
       "       -0.19056729, -0.05388139,  0.13857663,  0.08064521, -0.07328537,\n",
       "       -0.08275273,  0.20534543, -0.04006239, -0.11983654,  0.2792329 ,\n",
       "       -0.24563971, -0.12414201,  0.07582313,  0.26011757, -0.161809  ,\n",
       "       -0.03292671,  0.13083886,  0.08114286, -0.1336344 , -0.00144986,\n",
       "       -0.48846714,  0.06805349, -0.05475003,  0.12093933,  0.03650229,\n",
       "       -0.09818549, -0.26246799,  0.22542226,  0.04487079, -0.01078429,\n",
       "       -0.13481469, -0.03405271,  0.09358873,  0.02868243, -0.17487113,\n",
       "       -0.06380249,  0.13323761,  0.01286571,  0.01779139,  0.0982493 ,\n",
       "       -0.07875957, -0.05447471, -0.00868947, -0.04238036,  0.103505  ,\n",
       "       -0.17042053,  0.06075186, -0.10123244, -0.030623  ,  0.03198954,\n",
       "        0.04111457,  0.21066225,  0.10936033, -0.18178623, -0.03916459,\n",
       "       -0.03538933,  0.10308497, -0.0360321 ,  0.03777767,  0.06029971,\n",
       "       -0.1006708 ,  0.07112494, -0.21525436, -0.1168984 , -0.07243547,\n",
       "       -0.12621123,  0.02151234, -0.05178843, -0.0923261 ,  0.1182828 ,\n",
       "       -0.10624926, -0.13581105,  0.20523863, -0.01270873,  0.10053743,\n",
       "       -0.00950899,  0.19337443,  0.0837346 , -0.05894043,  0.04459198,\n",
       "       -0.161847  , -0.10538084,  0.10012479,  0.08359737,  0.05179286,\n",
       "       -0.17259929,  0.07959033,  0.22516041,  0.08195051,  0.14989551,\n",
       "        0.23231039,  0.14992146, -0.07500683,  0.03269431, -0.0403051 ,\n",
       "       -0.06429727, -0.05378159, -0.02131583, -0.0845996 ,  0.1333943 ,\n",
       "       -0.26209541,  0.08582394,  0.10344857,  0.03879185,  0.15029325,\n",
       "        0.14209386, -0.0819746 ,  0.04426424,  0.02615857,  0.17629884,\n",
       "       -0.04458341, -0.15487771, -0.07679213, -0.18388666,  0.12019994,\n",
       "       -0.22508494, -0.07630957, -0.030135  , -0.05460771, -0.0039177 ,\n",
       "        0.01551511, -0.11590197, -0.14980953, -0.24462614, -0.07954957,\n",
       "       -0.01799149,  0.31278691,  0.04564971,  0.19507049,  0.18597681,\n",
       "       -0.02048551,  0.03578573, -0.03824349,  0.20837386,  0.0273005 ,\n",
       "        0.03211186,  0.22796914,  0.08968971, -0.09320029, -0.07870956,\n",
       "       -0.08836171, -0.10891843, -0.03330236, -0.08180066, -0.27224814,\n",
       "       -0.04328527, -0.37972814, -0.21231671, -0.23555771, -0.06053009,\n",
       "        0.00062579, -0.00210741,  0.17780487, -0.03512153, -0.217199  ,\n",
       "        0.17849057,  0.11144296,  0.09057143,  0.14818387,  0.20104538,\n",
       "        0.01153869, -0.1261846 ,  0.11099346, -0.09606227, -0.06780711,\n",
       "        0.03375889,  0.07161404, -0.02789607, -0.11200529,  0.10289534,\n",
       "        0.23637999,  0.33381029,  0.02954581, -0.16646567, -0.07763035,\n",
       "        0.05942904,  0.17864181, -0.41291156, -0.09082129,  0.15363771])"
      ]
     },
     "execution_count": 5,
     "metadata": {},
     "output_type": "execute_result"
    }
   ],
   "source": [
    "generate_sentence_embedding(\"I'm a banana bread.\")"
   ]
  },
  {
   "cell_type": "code",
   "execution_count": 7,
   "metadata": {
    "collapsed": false
   },
   "outputs": [
    {
     "name": "stdout",
     "output_type": "stream",
     "text": [
      "MSRpar.txt 0.496389136129\n",
      "MSRvid.txt 0.795938846204\n",
      "SMTeuroparl.txt 0.642742130816\n"
     ]
    }
   ],
   "source": [
    "cnt = 0\n",
    "\n",
    "for tx in train_data:\n",
    "    scr_file = open(score_prefix + tx)\n",
    "    inp_file = open(input_prefix + tx)\n",
    "    \n",
    "    scr_content = scr_file.readlines()\n",
    "    inp_content = inp_file.readlines()\n",
    "    \n",
    "    sentences = []\n",
    "    scores = []\n",
    "    \n",
    "    for i in xrange(0, len(scr_content)):\n",
    "        snts = inp_content[i].split(\"\\t\")\n",
    "        sentences.append((snts[0], snts[1]))\n",
    "        \n",
    "        scores.append(float(scr_content[i]))\n",
    "    \n",
    "    scores = np.array(scores)\n",
    "    \n",
    "    calculated_similarity = []\n",
    "    for (s1, s2) in sentences:\n",
    "        embed_s1 = generate_sentence_embedding(s1)\n",
    "        embed_s2 = generate_sentence_embedding(s2)\n",
    "        \n",
    "        embed_s1 = embed_s1.reshape(1, -1)\n",
    "        embed_s2 = embed_s2.reshape(1, -1)\n",
    "        \n",
    "        calculated_similarity.append(cosine_similarity(embed_s1, embed_s2))\n",
    "    \n",
    "    scores = np.array(scores)\n",
    "    calculated_similarity = np.array(calculated_similarity)\n",
    "    calculated_similarity = calculated_similarity.reshape(scores.shape)\n",
    "    \n",
    "    corr, _ = pearsonr(scores, calculated_similarity)\n",
    "    print tx, corr\n",
    "    \n",
    "    scr_file.close()\n",
    "    inp_file.close()"
   ]
  },
  {
   "cell_type": "code",
   "execution_count": null,
   "metadata": {
    "collapsed": true
   },
   "outputs": [],
   "source": []
  },
  {
   "cell_type": "code",
   "execution_count": null,
   "metadata": {
    "collapsed": true
   },
   "outputs": [],
   "source": []
  },
  {
   "cell_type": "code",
   "execution_count": null,
   "metadata": {
    "collapsed": true
   },
   "outputs": [],
   "source": []
  }
 ],
 "metadata": {
  "anaconda-cloud": {},
  "kernelspec": {
   "display_name": "Python [Root]",
   "language": "python",
   "name": "Python [Root]"
  },
  "language_info": {
   "codemirror_mode": {
    "name": "ipython",
    "version": 2
   },
   "file_extension": ".py",
   "mimetype": "text/x-python",
   "name": "python",
   "nbconvert_exporter": "python",
   "pygments_lexer": "ipython2",
   "version": "2.7.12"
  }
 },
 "nbformat": 4,
 "nbformat_minor": 0
}
