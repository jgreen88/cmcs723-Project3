{
 "cells": [
  {
   "cell_type": "code",
   "execution_count": 1,
   "metadata": {
    "collapsed": false
   },
   "outputs": [
    {
     "name": "stdout",
     "output_type": "stream",
     "text": [
      "showing info https://raw.githubusercontent.com/nltk/nltk_data/gh-pages/index.xml\n"
     ]
    },
    {
     "data": {
      "text/plain": [
       "True"
      ]
     },
     "execution_count": 1,
     "metadata": {},
     "output_type": "execute_result"
    }
   ],
   "source": [
    "import numpy as np\n",
    "from sklearn.metrics.pairwise import cosine_similarity\n",
    "from scipy.stats.stats import pearsonr\n",
    "import nltk\n",
    "import sys\n",
    "import os\n",
    "\n",
    "# requires monolingual word aligner\n",
    "old_path = os.getcwd()\n",
    "os.chdir('/home/sri/Desktop/monolingual-word-aligner')\n",
    "from aligner import *\n",
    "os.chdir(old_path)\n",
    "\n",
    "#nltk.download()"
   ]
  },
  {
   "cell_type": "code",
   "execution_count": 2,
   "metadata": {
    "collapsed": true
   },
   "outputs": [],
   "source": [
    "from nltk.tokenize import RegexpTokenizer\n",
    "tokenizer = RegexpTokenizer(r'\\w+')"
   ]
  },
  {
   "cell_type": "code",
   "execution_count": 3,
   "metadata": {
    "collapsed": false
   },
   "outputs": [],
   "source": [
    "from nltk.corpus import stopwords\n",
    "stop = set(stopwords.words('english'))"
   ]
  },
  {
   "cell_type": "code",
   "execution_count": 4,
   "metadata": {
    "collapsed": false
   },
   "outputs": [],
   "source": [
    "def sentence_pairs_to_scores(snts, verbose = False):\n",
    "    calculated_similarity = []\n",
    "    i = 0\n",
    "    \n",
    "    for (s1, s2) in snts:\n",
    "        tkn_s1 = nltk.word_tokenize(s1.lower().decode('utf8'))\n",
    "        tkn_s2 = nltk.word_tokenize(s2.lower().decode('utf8'))\n",
    "        \n",
    "        filtered_tkn1 = []\n",
    "        for tkn in tkn_s1:\n",
    "            if (tkn not in stop): filtered_tkn1.append(tkn)\n",
    "        \n",
    "        filtered_tkn2 = []\n",
    "        for tkn in tkn_s2:\n",
    "            if (tkn not in stop): filtered_tkn2.append(tkn)\n",
    "        \n",
    "        try:\n",
    "            alignments = align(filtered_tkn1, filtered_tkn2)\n",
    "            num_aligned = len(alignments[0]) * 2\n",
    "            num_total = len(filtered_tkn1) + len(filtered_tkn2)\n",
    "        \n",
    "            score = float(num_aligned) / float(num_total)\n",
    "        except:\n",
    "            score = 0.5\n",
    "        \n",
    "        calculated_similarity.append(score)\n",
    "        \n",
    "        if (verbose):\n",
    "            print \"        \\r\", (i + 1), \"/\", len(snts),\n",
    "            i += 1\n",
    "        \n",
    "    calculated_similarity = np.array(calculated_similarity)\n",
    "    return calculated_similarity"
   ]
  },
  {
   "cell_type": "code",
   "execution_count": 5,
   "metadata": {
    "collapsed": true
   },
   "outputs": [],
   "source": [
    "def compute_scores(inp_fname, out_fname, verbose = False):\n",
    "    inp_file = open(inp_fname)\n",
    "    inp_content = inp_file.readlines()\n",
    "    inp_file.close()\n",
    "    \n",
    "    sentences = []\n",
    "    for i in xrange(0, len(inp_content)):\n",
    "        snts = inp_content[i].split(\"\\t\")\n",
    "        sentences.append((snts[0], snts[1]))\n",
    "\n",
    "    calculated_similarity = sentence_pairs_to_scores(sentences, verbose)\n",
    "    np.savetxt(out_fname, calculated_similarity)"
   ]
  },
  {
   "cell_type": "code",
   "execution_count": 7,
   "metadata": {
    "collapsed": false
   },
   "outputs": [
    {
     "name": "stdout",
     "output_type": "stream",
     "text": [
      "209 / 209\n"
     ]
    }
   ],
   "source": [
    "compute_scores(\"test/STS2016.input.answer-answer.txt\", \"answer-answer.predictions\", True)\n",
    "compute_scores(\"test/STS2016.input.headlines.txt\", \"headlines.predictions\", True)\n",
    "compute_scores(\"test/STS2016.input.plagiarism.txt\", \"plagiarism.predictions\", True)\n",
    "compute_scores(\"test/STS2016.input.postediting.txt\", \"postediting.predictions\", True)\n",
    "compute_scores(\"test/STS2016.input.question-question.txt\", \"question-question.predictions\", True)"
   ]
  },
  {
   "cell_type": "code",
   "execution_count": null,
   "metadata": {
    "collapsed": false
   },
   "outputs": [],
   "source": [
    "print align(\"he was terrible\", \"she is a bad person\")\n",
    "print len(align(\"she is a bad person\", \"he was terrible\")[0])"
   ]
  },
  {
   "cell_type": "code",
   "execution_count": 6,
   "metadata": {
    "collapsed": false
   },
   "outputs": [
    {
     "name": "stdout",
     "output_type": "stream",
     "text": [
      "750 / 750 MSRpar.txt 0.518575643915\n",
      "750 / 750 MSRvid.txt 0.795771825005\n",
      "734 / 734 SMTeuroparl.txt 0.553271648716\n"
     ]
    }
   ],
   "source": [
    "train_data = ['MSRpar.txt', 'MSRvid.txt', 'SMTeuroparl.txt']\n",
    "\n",
    "score_prefix = \"train/STS2012-en-train/STS.gs.\"\n",
    "input_prefix = \"train/STS2012-en-train/STS.input.\"\n",
    "\n",
    "cnt = 0\n",
    "\n",
    "calculated_scores = {}\n",
    "\n",
    "for tx in train_data:\n",
    "    scr_file = open(score_prefix + tx)\n",
    "    inp_file = open(input_prefix + tx)\n",
    "    \n",
    "    scr_content = scr_file.readlines()\n",
    "    inp_content = inp_file.readlines()\n",
    "    \n",
    "    sentences = []\n",
    "    scores = []\n",
    "    \n",
    "    for i in xrange(0, len(scr_content)):\n",
    "        snts = inp_content[i].split(\"\\t\")\n",
    "        snts = [x.replace(\"\\n\", \"\") for x in snts]\n",
    "        sentences.append((snts[0], snts[1]))\n",
    "        \n",
    "        scores.append(float(scr_content[i]))\n",
    "    \n",
    "    scores = np.array(scores)\n",
    "    \n",
    "    calculated_similarity = sentence_pairs_to_scores(sentences, True)\n",
    "    calculated_similarity = calculated_similarity.reshape(scores.shape)\n",
    "    \n",
    "    corr, _ = pearsonr(scores, calculated_similarity)\n",
    "    print tx, corr\n",
    "    \n",
    "    store = []\n",
    "    for i in xrange(0, scores.shape[0]):\n",
    "        store.append((sentences[i], calculated_similarity[i], scores[i]))\n",
    "    calculated_scores[tx] = store\n",
    "    \n",
    "    scr_file.close()\n",
    "    inp_file.close()"
   ]
  },
  {
   "cell_type": "code",
   "execution_count": null,
   "metadata": {
    "collapsed": false
   },
   "outputs": [],
   "source": [
    "import math\n",
    "idx = 0\n",
    "\n",
    "sc = calculated_scores['MSRpar.txt']\n",
    "for i in xrange(0, len(sc)):\n",
    "    snts, calc, actual = sc[i]\n",
    "    \n",
    "    if (abs(actual - (calc * 5.0)) > 0.1):\n",
    "        continue\n",
    "\n",
    "    print i\n",
    "    print snts\n",
    "    print actual / 5.0, actual\n",
    "    print calc, calc * 5.0\n",
    "    print \"\""
   ]
  },
  {
   "cell_type": "code",
   "execution_count": null,
   "metadata": {
    "collapsed": true
   },
   "outputs": [],
   "source": []
  }
 ],
 "metadata": {
  "anaconda-cloud": {},
  "kernelspec": {
   "display_name": "Python 2",
   "language": "python",
   "name": "python2"
  },
  "language_info": {
   "codemirror_mode": {
    "name": "ipython",
    "version": 2
   },
   "file_extension": ".py",
   "mimetype": "text/x-python",
   "name": "python",
   "nbconvert_exporter": "python",
   "pygments_lexer": "ipython2",
   "version": "2.7.12"
  }
 },
 "nbformat": 4,
 "nbformat_minor": 0
}
